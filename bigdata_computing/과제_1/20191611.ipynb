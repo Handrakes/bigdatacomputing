{
 "cells": [
  {
   "cell_type": "code",
   "execution_count": 2,
   "id": "61a3620a",
   "metadata": {},
   "outputs": [
    {
     "name": "stdout",
     "output_type": "stream",
     "text": [
      "[61.0, 45.0, 73.0, 55.0, 30.0, 36.0, 64.0, 66.0, 44.0, 53.0]\n"
     ]
    }
   ],
   "source": [
    "f = open(\"score.txt\", 'r')\n",
    "lines = f.readlines()\n",
    "sum = 0\n",
    "result = []\n",
    "\n",
    "for line in lines:\n",
    "    fir = line.strip()\n",
    "    str = fir.replace(\" \", \"\")\n",
    "    res = str.split(\",\")\n",
    "    for i in range(0,5):\n",
    "        sum += int(res[i])\n",
    "    result.append(sum/5)\n",
    "    sum = 0\n",
    "    \n",
    "print(result)\n",
    "f.close()"
   ]
  },
  {
   "cell_type": "code",
   "execution_count": 8,
   "id": "856efb9f",
   "metadata": {},
   "outputs": [
    {
     "name": "stdout",
     "output_type": "stream",
     "text": [
      "Grade is : 3.255\n"
     ]
    }
   ],
   "source": [
    "x = {'A+' : 4.3, 'A-' : 3.7,'B+' : 3.3,'B0':3.0, 'C+':2.3, 'C0':2.0}\n",
    "w = [3,3,1,2,2,3,3,3]\n",
    "w_sum = 0\n",
    "\n",
    "for i in range(len(w)):\n",
    "    w_sum += w[i]\n",
    "\n",
    "result = (x['A+'] * w[0]) + (x['B0'] * w[1]) + (x['B+'] * w[2]) + (x['A-'] * w[3]) + (x['C+'] * w[4]) + (x['A+'] * w[5]) + (x['B0'] * w[6]) + (x['C0'] * w[7])\n",
    "print(\"Grade is : %.3f\" % (result/w_sum))"
   ]
  },
  {
   "cell_type": "code",
   "execution_count": null,
   "id": "7b9a57c6",
   "metadata": {},
   "outputs": [],
   "source": []
  }
 ],
 "metadata": {
  "kernelspec": {
   "display_name": "Python 3 (ipykernel)",
   "language": "python",
   "name": "python3"
  },
  "language_info": {
   "codemirror_mode": {
    "name": "ipython",
    "version": 3
   },
   "file_extension": ".py",
   "mimetype": "text/x-python",
   "name": "python",
   "nbconvert_exporter": "python",
   "pygments_lexer": "ipython3",
   "version": "3.9.13"
  }
 },
 "nbformat": 4,
 "nbformat_minor": 5
}
